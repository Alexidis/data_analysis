{
 "cells": [
  {
   "cell_type": "code",
   "execution_count": 1,
   "id": "2797add4",
   "metadata": {},
   "outputs": [],
   "source": [
    "import numpy as np\n",
    "from sklearn.datasets import load_iris\n",
    "from sklearn.model_selection import train_test_split\n",
    "import matplotlib.pyplot as plt\n",
    "from matplotlib.colors import ListedColormap"
   ]
  },
  {
   "cell_type": "code",
   "execution_count": 2,
   "id": "d7532334",
   "metadata": {},
   "outputs": [],
   "source": [
    "def standard_scale(x):\n",
    "    res = (x - x.mean(axis=0)) / x.std(axis=0)\n",
    "    return res"
   ]
  },
  {
   "cell_type": "code",
   "execution_count": 3,
   "id": "d03dcf36",
   "metadata": {},
   "outputs": [],
   "source": [
    "def e_metrics(x1, x2):\n",
    "    distance = np.sum(np.square(x1 - x2))\n",
    "    return np.sqrt(distance)"
   ]
  },
  {
   "cell_type": "code",
   "execution_count": 4,
   "id": "319cbdbd",
   "metadata": {},
   "outputs": [],
   "source": [
    "def knn(x_train, y_train, x_test, k):\n",
    "    \n",
    "    answers = []\n",
    "    for x in x_test:\n",
    "        q = 0.5\n",
    "        # делаем вектор расстояний до каждой точки\n",
    "        dist = np.vectorize(lambda x2: -q**e_metrics(x, x2), signature='(n)->()')(x_train)\n",
    "        # соединяем вектор и класс\n",
    "        dist_to_nei = np.column_stack((dist, y_train))\n",
    "        # находим ближайших соседей\n",
    "        nearest_nei = dist_to_nei[dist_to_nei[:,0].argsort()][:k]\n",
    "        # определяем кто встречается чаще всех\n",
    "        nei_freq = np.column_stack(np.unique(nearest_nei[:, -1], return_counts=True))\n",
    "        # получаем самого часто встречающегося соседа\n",
    "        most_freq_nei = int(nei_freq[nei_freq[:,1].argsort()[-1]][0])\n",
    "        # записываем ответ\n",
    "        answers.append(most_freq_nei)\n",
    "        \n",
    "    return answers"
   ]
  },
  {
   "cell_type": "code",
   "execution_count": 6,
   "id": "3c7b38f7",
   "metadata": {},
   "outputs": [],
   "source": [
    "def accuracy(pred, y):\n",
    "    return (sum(pred == y) / len(y))"
   ]
  },
  {
   "cell_type": "code",
   "execution_count": 7,
   "id": "9883f6ea",
   "metadata": {},
   "outputs": [],
   "source": [
    "iris = load_iris()\n",
    "X, y = load_iris(return_X_y=True)\n",
    "X_train, X_test, y_train, y_test = train_test_split(X, y,\n",
    "                                                    test_size=0.2,\n",
    "                                                    random_state=1,\n",
    "                                                    stratify=y)"
   ]
  },
  {
   "cell_type": "code",
   "execution_count": 8,
   "id": "52369f2b",
   "metadata": {},
   "outputs": [],
   "source": [
    "def pca(x_test):\n",
    "    # Для начала отмасштабируем выборку\n",
    "    x_new = x_test.astype(float)\n",
    "    x_new = standard_scale(x_new)\n",
    "    \n",
    "    # Найдем собственные векторы и собственные значения\n",
    "    covariance_matrix = x_new.T @ x_new\n",
    "    eig_values, eig_vectors = np.linalg.eig(covariance_matrix)\n",
    "\n",
    "    # сформируем список кортежей (собственное значение, собственный вектор)\n",
    "    eig_pairs = [(np.abs(eig_values[i]), eig_vectors[:, i]) for i in range(len(eig_values))]\n",
    "\n",
    "    # и отсортируем список по убыванию собственных значений\n",
    "    eig_pairs.sort(key=lambda x: x[0], reverse=True)\n",
    "    \n",
    "    # Сформируем вектор весов из собственных векторов, соответствующих первым двум главным компонентам\n",
    "    W = np.hstack([eig_pairs[i][1].reshape(4, 1) for i in range(2)])\n",
    "\n",
    "    # Сформируем новую матрицу \"объекты-признаки\"\n",
    "    Z = x_new.dot(W)\n",
    "    \n",
    "    return Z"
   ]
  },
  {
   "cell_type": "markdown",
   "id": "6889a680",
   "metadata": {},
   "source": [
    "### Задача 1\n",
    "Обучить любую модель классификации на датасете IRIS до применения самописного PCA (2 компоненты) и после него. Сравнить качество классификации по отложенной выборке."
   ]
  },
  {
   "cell_type": "code",
   "execution_count": 9,
   "id": "8fd86681",
   "metadata": {},
   "outputs": [],
   "source": [
    "k = 5"
   ]
  },
  {
   "cell_type": "code",
   "execution_count": 10,
   "id": "10051dde",
   "metadata": {},
   "outputs": [
    {
     "name": "stdout",
     "output_type": "stream",
     "text": [
      "Точность алгоритма при k = 5: 0.967\n"
     ]
    }
   ],
   "source": [
    "y_pred = knn(X_train, y_train, X_test, k)\n",
    "print(f'Точность алгоритма при k = {k}: {accuracy(y_pred, y_test):.3f}')"
   ]
  },
  {
   "cell_type": "code",
   "execution_count": 11,
   "id": "185d7923",
   "metadata": {},
   "outputs": [],
   "source": [
    "X_test2 = pca(X_test)\n",
    "X_train2 = pca(X_train)"
   ]
  },
  {
   "cell_type": "code",
   "execution_count": 12,
   "id": "625c5e2c",
   "metadata": {},
   "outputs": [
    {
     "name": "stdout",
     "output_type": "stream",
     "text": [
      "Точность алгоритма при k = 5: 0.867\n"
     ]
    }
   ],
   "source": [
    "y_pred = knn(X_train2, y_train, X_test2, k)\n",
    "print(f'Точность алгоритма при k = {k}: {accuracy(y_pred, y_test):.3f}')"
   ]
  },
  {
   "cell_type": "markdown",
   "id": "d0677166",
   "metadata": {},
   "source": [
    "### Вывод\n",
    "При использовании PCA качества классификации снижается"
   ]
  },
  {
   "cell_type": "markdown",
   "id": "f7a446b0",
   "metadata": {},
   "source": [
    "### Задача 2\n",
    "*Написать свою реализацию метода главных компонент с помощью сингулярного разложения с использованием функции numpy.linalg.svd()"
   ]
  },
  {
   "cell_type": "code",
   "execution_count": null,
   "id": "18f4a105",
   "metadata": {},
   "outputs": [],
   "source": []
  }
 ],
 "metadata": {
  "kernelspec": {
   "display_name": "Python 3",
   "language": "python",
   "name": "python3"
  },
  "language_info": {
   "codemirror_mode": {
    "name": "ipython",
    "version": 3
   },
   "file_extension": ".py",
   "mimetype": "text/x-python",
   "name": "python",
   "nbconvert_exporter": "python",
   "pygments_lexer": "ipython3",
   "version": "3.8.6"
  },
  "varInspector": {
   "cols": {
    "lenName": 16,
    "lenType": 16,
    "lenVar": 40
   },
   "kernels_config": {
    "python": {
     "delete_cmd_postfix": "",
     "delete_cmd_prefix": "del ",
     "library": "var_list.py",
     "varRefreshCmd": "print(var_dic_list())"
    },
    "r": {
     "delete_cmd_postfix": ") ",
     "delete_cmd_prefix": "rm(",
     "library": "var_list.r",
     "varRefreshCmd": "cat(var_dic_list()) "
    }
   },
   "types_to_exclude": [
    "module",
    "function",
    "builtin_function_or_method",
    "instance",
    "_Feature"
   ],
   "window_display": false
  }
 },
 "nbformat": 4,
 "nbformat_minor": 5
}
