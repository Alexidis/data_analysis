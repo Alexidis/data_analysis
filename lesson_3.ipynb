{
 "cells": [
  {
   "cell_type": "code",
   "execution_count": 1,
   "id": "e3db2826",
   "metadata": {},
   "outputs": [],
   "source": [
    "import numpy as np\n",
    "import matplotlib.pyplot as plt\n",
    "from sklearn.metrics import confusion_matrix"
   ]
  },
  {
   "cell_type": "code",
   "execution_count": 2,
   "id": "1c61da72",
   "metadata": {},
   "outputs": [],
   "source": [
    "def standard_scale(x):\n",
    "    res = (x - x.mean()) / x.std()\n",
    "    return res"
   ]
  },
  {
   "cell_type": "code",
   "execution_count": 3,
   "id": "cd3c042c",
   "metadata": {},
   "outputs": [],
   "source": [
    "def sigmoid(z):\n",
    "    res = 1 / (1 + np.exp(-z))\n",
    "    return res"
   ]
  },
  {
   "cell_type": "code",
   "execution_count": 4,
   "id": "c7ca3e6e",
   "metadata": {},
   "outputs": [],
   "source": [
    "def calc_logloss(y, y_pred):\n",
    "    err = - np.mean(y * np.log(y_pred) + (1.0 - y) * np.log(1.0 - y_pred))\n",
    "    return err"
   ]
  },
  {
   "cell_type": "code",
   "execution_count": 5,
   "id": "377c6a26",
   "metadata": {},
   "outputs": [],
   "source": [
    "X = np.array([ [   1,    1,  500,    1],\n",
    "               [   1,    1,  700,    1],\n",
    "               [   1,    2,  750,    2],\n",
    "               [   1,    5,  600,    1],\n",
    "               [   1,    3, 1450,    2],\n",
    "               [   1,    0,  800,    1],\n",
    "               [   1,    5, 1500,    3],\n",
    "               [   1,   10, 2000,    3],\n",
    "               [   1,    1,  450,    1],\n",
    "               [   1,    2, 1000,    2]], dtype=np.float64)\n",
    "\n",
    "y = np.array([0, 0, 1, 0, 1, 0, 1, 0, 1, 1], dtype=np.float64)"
   ]
  },
  {
   "cell_type": "code",
   "execution_count": 6,
   "id": "3272de00",
   "metadata": {},
   "outputs": [],
   "source": [
    "X_st = X.copy()\n",
    "X_st[:, 2] = standard_scale(X[:, 2])"
   ]
  },
  {
   "cell_type": "markdown",
   "id": "ac6135d4",
   "metadata": {},
   "source": [
    "### Задача 1*\n",
    "Измените функцию calc_logloss так, чтобы нули по возможности не попадали в np.log."
   ]
  },
  {
   "cell_type": "code",
   "execution_count": 7,
   "id": "2a3558e8",
   "metadata": {},
   "outputs": [],
   "source": [
    "def calc_logloss(y, y_pred, eps=1e-15):\n",
    "    # ограничит предсказание значениями 1e-15 и 1 - 1e-15 \n",
    "    y_pred = np.clip(y_pred, eps, 1 - eps)\n",
    "    err = - np.mean(y * np.log(y_pred) + (1.0 - y) * np.log(1.0 - y_pred))\n",
    "    \n",
    "    return err"
   ]
  },
  {
   "cell_type": "code",
   "execution_count": 8,
   "id": "91f66676",
   "metadata": {},
   "outputs": [],
   "source": [
    "y1 = np.array([1, 0])"
   ]
  },
  {
   "cell_type": "code",
   "execution_count": 9,
   "id": "177bd96a",
   "metadata": {},
   "outputs": [
    {
     "data": {
      "text/plain": [
       "0.164252033486018"
      ]
     },
     "execution_count": 9,
     "metadata": {},
     "output_type": "execute_result"
    }
   ],
   "source": [
    "# использование нормальных значений\n",
    "y_pred1 = np.array([0.8, 0.1])\n",
    "calc_logloss(y1, y_pred1)"
   ]
  },
  {
   "cell_type": "code",
   "execution_count": 10,
   "id": "52b67e0e",
   "metadata": {},
   "outputs": [
    {
     "data": {
      "text/plain": [
       "34.53917619362578"
      ]
     },
     "execution_count": 10,
     "metadata": {},
     "output_type": "execute_result"
    }
   ],
   "source": [
    "# использование 0 и 1\n",
    "y_pred2 = np.array([0, 1])\n",
    "calc_logloss(y1, y_pred2)"
   ]
  },
  {
   "cell_type": "markdown",
   "id": "27e4a6c8",
   "metadata": {},
   "source": [
    "### Задача 2\n",
    "Подберите аргументы функции eval_model для логистической регрессии таким образом, чтобы log loss был минимальным."
   ]
  },
  {
   "cell_type": "code",
   "execution_count": 11,
   "id": "a077d3bc",
   "metadata": {},
   "outputs": [],
   "source": [
    "# код функции тот же самый, что и в методичке, но подхватывается уже новая версия calc_logloss\n",
    "def eval_model(X, y, iterations, eta=1e-4):\n",
    "    np.random.seed(42)\n",
    "    W = np.random.randn(X.shape[1])\n",
    "    n = X.shape[0]\n",
    "    \n",
    "    for i in range(iterations):\n",
    "        z = np.dot(X, W)\n",
    "        y_pred = sigmoid(z)\n",
    "        err = calc_logloss(y, y_pred)\n",
    "        \n",
    "        dQ = 1/n * X.T @ (y_pred - y)\n",
    "        W -= eta * dQ\n",
    "        if i % (iterations / 10) == 0:\n",
    "            print(i, W, err)\n",
    "    return W, err"
   ]
  },
  {
   "cell_type": "code",
   "execution_count": 12,
   "id": "6f9a372f",
   "metadata": {},
   "outputs": [
    {
     "name": "stdout",
     "output_type": "stream",
     "text": [
      "0 [ -3.29715467 -14.6470242    0.37388435  -4.13843283] 1.1785958344356262\n",
      "10 [ -3.84719604 -15.68265117   6.53343301  10.06564547] 5.407107479646821\n",
      "20 [ -5.96483274 -18.42578336  10.99529928  21.95453995] 7.828182836418551\n",
      "30 [-10.15891717 -22.09876988  14.10637274  28.2892994 ] 5.916795846115139\n",
      "40 [-12.0971529  -20.02766324  15.4578092   36.72554313] 3.4794070637467582\n",
      "50 [-15.18985471 -13.12036272  10.01576691  33.63284309] 2.181273835303843\n",
      "60 [-19.48597898  -9.15855557   4.87486494  28.9496718 ] 1.3048680468257763\n",
      "70 [-22.14898967  -6.18704278  -1.26057625  25.50726982] 0.6695345627233119\n",
      "80 [-26.65475679 -18.24947128  -3.26040769  22.2274953 ] 6.479051628544935\n",
      "90 [-28.81876932 -20.0744361    0.6152993   31.61935683] 2.818912522603524\n"
     ]
    },
    {
     "data": {
      "text/plain": [
       "1.529142039707478"
      ]
     },
     "execution_count": 12,
     "metadata": {},
     "output_type": "execute_result"
    }
   ],
   "source": [
    "# Чем больше количество итераций и коэфициент обучения тем медленне работает предсказание и тем ниже значение ошибки\n",
    "W, err = eval_model(X_st, y, iterations=10000, eta=42)\n",
    "# Альтернативные параметры для проверки зависимости между переобучением и гиперпараметрами модели\n",
    "# W, err = eval_model(X_st, y, iterations=100, eta=10)\n",
    "err"
   ]
  },
  {
   "cell_type": "markdown",
   "id": "389da3ca",
   "metadata": {},
   "source": [
    "### Задача 3\n",
    "Создайте функцию calc_pred_proba, возвращающую предсказанную вероятность класса 1 (на вход подаются W, который уже посчитан функцией eval_model и X, на выходе - массив y_pred_proba)."
   ]
  },
  {
   "cell_type": "code",
   "execution_count": 13,
   "id": "79f9ac01",
   "metadata": {},
   "outputs": [],
   "source": [
    "def calc_pred_proba(X, w):\n",
    "    y_pred_proba = np.squeeze(sigmoid(np.dot(X, w)))\n",
    "    return y_pred_proba"
   ]
  },
  {
   "cell_type": "code",
   "execution_count": 14,
   "id": "0ec5e5eb",
   "metadata": {},
   "outputs": [
    {
     "data": {
      "text/plain": [
       "array([2.86191533e-02, 1.07499710e-01, 1.00000000e+00, 1.25492717e-21,\n",
       "       9.99999999e-01, 9.99950534e-01, 1.00000000e+00, 1.47103708e-06,\n",
       "       2.02991481e-02, 1.00000000e+00])"
      ]
     },
     "execution_count": 14,
     "metadata": {},
     "output_type": "execute_result"
    }
   ],
   "source": [
    "calc_pred_proba(X_st, W)"
   ]
  },
  {
   "cell_type": "markdown",
   "id": "181b7c03",
   "metadata": {},
   "source": [
    "### Задача 4\n",
    "Создайте функцию calc_pred, возвращающую предсказанный класс (на вход подаются W, который уже посчитан функцией eval_model и X, на выходе - массив y_pred)."
   ]
  },
  {
   "cell_type": "code",
   "execution_count": 15,
   "id": "b35029db",
   "metadata": {},
   "outputs": [],
   "source": [
    "def calc_pred(X, w):\n",
    "    m = X.shape[0]\n",
    "    \n",
    "    y_pred = np.zeros(m)\n",
    "\n",
    "    A = np.squeeze(sigmoid(np.dot(X, w)))\n",
    "\n",
    "    # За порог отнесения к тому или иному классу примем вероятность 0.5\n",
    "    for i in range(A.shape[0]):\n",
    "        if (A[i] > 0.5): \n",
    "            y_pred[i] = 1\n",
    "        elif (A[i] <= 0.5):\n",
    "            y_pred[i] = 0\n",
    "    \n",
    "    return y_pred"
   ]
  },
  {
   "cell_type": "code",
   "execution_count": 16,
   "id": "8b631bb6",
   "metadata": {},
   "outputs": [
    {
     "data": {
      "text/plain": [
       "array([0., 0., 1., 0., 1., 1., 1., 0., 0., 1.])"
      ]
     },
     "execution_count": 16,
     "metadata": {},
     "output_type": "execute_result"
    }
   ],
   "source": [
    "y_pred = calc_pred(X_st, W)\n",
    "y_pred"
   ]
  },
  {
   "cell_type": "markdown",
   "id": "4c560734",
   "metadata": {},
   "source": [
    "### Задача 5*\n",
    "Реализуйте функции для подсчета Accuracy, матрицы ошибок, точности и полноты, а также F1 score."
   ]
  },
  {
   "cell_type": "code",
   "execution_count": 17,
   "id": "9b2c8d05",
   "metadata": {},
   "outputs": [],
   "source": [
    "def get_accuracy(pred, y, size):\n",
    "    accuracy = np.sum(y_pred == y) / size\n",
    "    return accuracy"
   ]
  },
  {
   "cell_type": "code",
   "execution_count": 18,
   "id": "c2170d4c",
   "metadata": {},
   "outputs": [
    {
     "data": {
      "text/plain": [
       "0.8"
      ]
     },
     "execution_count": 18,
     "metadata": {},
     "output_type": "execute_result"
    }
   ],
   "source": [
    "get_accuracy(y_pred, y, X_st.shape[0])"
   ]
  },
  {
   "cell_type": "code",
   "execution_count": 19,
   "id": "0d2003b2",
   "metadata": {},
   "outputs": [
    {
     "data": {
      "text/plain": [
       "array([[4, 1],\n",
       "       [1, 4]], dtype=int64)"
      ]
     },
     "execution_count": 19,
     "metadata": {},
     "output_type": "execute_result"
    }
   ],
   "source": [
    "cm = confusion_matrix(y, y_pred)\n",
    "cm"
   ]
  },
  {
   "cell_type": "code",
   "execution_count": 20,
   "id": "4b06c48f",
   "metadata": {},
   "outputs": [],
   "source": [
    "def get_precisions(c_matrix, class_num):\n",
    "    class_num -= 1\n",
    "    precisions = c_matrix[class_num][class_num]/np.sum(c_matrix[class_num, :])\n",
    "    return precisions"
   ]
  },
  {
   "cell_type": "code",
   "execution_count": 21,
   "id": "2fe3aa89",
   "metadata": {},
   "outputs": [
    {
     "data": {
      "text/plain": [
       "0.8"
      ]
     },
     "execution_count": 21,
     "metadata": {},
     "output_type": "execute_result"
    }
   ],
   "source": [
    "get_precisions(cm, 2)"
   ]
  },
  {
   "cell_type": "code",
   "execution_count": 22,
   "id": "92ae65c8",
   "metadata": {},
   "outputs": [],
   "source": [
    "def get_recall(c_matrix, class_num):\n",
    "    class_num -= 1\n",
    "    recall = c_matrix[class_num][class_num]/np.sum(c_matrix[:, class_num])\n",
    "    return recall"
   ]
  },
  {
   "cell_type": "code",
   "execution_count": 23,
   "id": "b62ace21",
   "metadata": {},
   "outputs": [
    {
     "data": {
      "text/plain": [
       "0.8"
      ]
     },
     "execution_count": 23,
     "metadata": {},
     "output_type": "execute_result"
    }
   ],
   "source": [
    "get_recall(cm, 2)"
   ]
  },
  {
   "cell_type": "markdown",
   "id": "21a44f1c",
   "metadata": {},
   "source": [
    "### Задача 6\n",
    "Могла ли модель переобучиться? Почему?"
   ]
  },
  {
   "cell_type": "markdown",
   "id": "f284e29b",
   "metadata": {},
   "source": [
    "Думаю так и произошло из-за черезмерно маленькой выборки и того что до упора выкручены коэффициенты в функции eval_model.\n",
    "т.е. модель подогналась под конкретные значения."
   ]
  }
 ],
 "metadata": {
  "kernelspec": {
   "display_name": "Python 3",
   "language": "python",
   "name": "python3"
  },
  "language_info": {
   "codemirror_mode": {
    "name": "ipython",
    "version": 3
   },
   "file_extension": ".py",
   "mimetype": "text/x-python",
   "name": "python",
   "nbconvert_exporter": "python",
   "pygments_lexer": "ipython3",
   "version": "3.8.6"
  }
 },
 "nbformat": 4,
 "nbformat_minor": 5
}
