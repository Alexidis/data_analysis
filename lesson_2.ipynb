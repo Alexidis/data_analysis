{
 "cells": [
  {
   "cell_type": "code",
   "execution_count": 1,
   "id": "6b4c174f",
   "metadata": {},
   "outputs": [],
   "source": [
    "import numpy as np\n",
    "import matplotlib.pyplot as plt\n",
    "from sklearn.datasets import make_regression"
   ]
  },
  {
   "cell_type": "code",
   "execution_count": 2,
   "id": "a63abe2c",
   "metadata": {},
   "outputs": [],
   "source": [
    "X = np.array([[   1,    1,  500,    1],\n",
    "              [   1,    1,  700,    1],\n",
    "              [   1,    2,  750,    2],\n",
    "              [   1,    5,  600,    1],\n",
    "              [   1,    3, 1450,    2],\n",
    "              [   1,    0,  800,    1],\n",
    "              [   1,    5, 1500,    3],\n",
    "              [   1,   10, 2000,    3],\n",
    "              [   1,    1,  450,    1],\n",
    "              [   1,    2, 1000,    2]])"
   ]
  },
  {
   "cell_type": "code",
   "execution_count": 3,
   "id": "e5eb8fd6",
   "metadata": {},
   "outputs": [],
   "source": [
    "y = [45, 55, 50, 55, 60, 35, 75, 80, 50, 60]"
   ]
  },
  {
   "cell_type": "code",
   "execution_count": 4,
   "id": "de6bd081",
   "metadata": {},
   "outputs": [],
   "source": [
    "def standard_scale(X):\n",
    "    mean = X.mean()\n",
    "    std = X.std()\n",
    "    return (X - mean) / std"
   ]
  },
  {
   "cell_type": "code",
   "execution_count": 5,
   "id": "a281c36c",
   "metadata": {},
   "outputs": [],
   "source": [
    "def calc_mse(y, y_pred):\n",
    "    err = np.mean((y - y_pred)**2)\n",
    "    return err"
   ]
  },
  {
   "cell_type": "code",
   "execution_count": 6,
   "id": "b8401587",
   "metadata": {},
   "outputs": [],
   "source": [
    "def mserror(X, w, y_pred):\n",
    "    y = X.dot(w)\n",
    "    return (sum((y - y_pred)**2)) / len(y)"
   ]
  },
  {
   "cell_type": "code",
   "execution_count": 7,
   "id": "d4a5db07",
   "metadata": {},
   "outputs": [],
   "source": [
    "def gradient_descent_reg_l2(X, y, iterations, eta=1e-4, reg=1e-8):\n",
    "    W = np.random.randn(X.shape[1])\n",
    "    n = X.shape[0]\n",
    "    \n",
    "    for i in range(0, iterations):\n",
    "        y_pred = np.dot(X, W)\n",
    "       \n",
    "        dQ = 2/n * X.T @ (y_pred - y) # градиент функции ошибки\n",
    "        dReg = reg * W # градиент регуляризации\n",
    "        \n",
    "        W -= eta * (dQ + dReg)\n",
    "        \n",
    "    return W"
   ]
  },
  {
   "cell_type": "code",
   "execution_count": 8,
   "id": "2993f209",
   "metadata": {},
   "outputs": [
    {
     "data": {
      "text/plain": [
       "array([[ 1.        , -0.70710678, -0.97958969, -0.89625816],\n",
       "       [ 1.        , -0.70710678, -0.56713087, -0.89625816],\n",
       "       [ 1.        , -0.35355339, -0.46401617,  0.38411064],\n",
       "       [ 1.        ,  0.70710678, -0.77336028, -0.89625816],\n",
       "       [ 1.        ,  0.        ,  0.97958969,  0.38411064],\n",
       "       [ 1.        , -1.06066017, -0.36090146, -0.89625816],\n",
       "       [ 1.        ,  0.70710678,  1.08270439,  1.66447944],\n",
       "       [ 1.        ,  2.47487373,  2.11385144,  1.66447944],\n",
       "       [ 1.        , -0.70710678, -1.08270439, -0.89625816],\n",
       "       [ 1.        , -0.35355339,  0.05155735,  0.38411064]])"
      ]
     },
     "execution_count": 8,
     "metadata": {},
     "output_type": "execute_result"
    }
   ],
   "source": [
    "X_st = X.copy().astype(np.float64)\n",
    "X_st[:, 1] = standard_scale(X_st[:, 1])\n",
    "X_st[:, 2] = standard_scale(X_st[:, 2])\n",
    "X_st[:, 3] = standard_scale(X_st[:, 3])\n",
    "\n",
    "X_st"
   ]
  },
  {
   "cell_type": "markdown",
   "id": "73c7d9cb",
   "metadata": {},
   "source": [
    "### Задача 1\n",
    "Постройте график зависимости весов всех признаков от lambda в самописной L2-регуляризации (на данных про ЕГЭ).  \n",
    "Сделайте вывод\n",
    "\n",
    "\n"
   ]
  },
  {
   "cell_type": "code",
   "execution_count": 9,
   "id": "b47cb55c",
   "metadata": {
    "scrolled": true
   },
   "outputs": [],
   "source": [
    "n = 16\n",
    "alpha_list = np.logspace(-3, 2, n)\n",
    "coeffs = np.zeros((n, X_st.shape[1]))\n",
    "\n",
    "for i, val in enumerate(alpha_list):\n",
    "    w = gradient_descent_reg_l2(X_st, y, iterations=50, eta=1e-2, reg=val)\n",
    "    coeffs[i, :] = w"
   ]
  },
  {
   "cell_type": "code",
   "execution_count": 10,
   "id": "64454ee1",
   "metadata": {},
   "outputs": [
    {
     "data": {
      "image/png": "[encoded data removed]",
      "text/plain": [
       "<Figure size 1080x288 with 2 Axes>"
      ]
     },
     "metadata": {
      "needs_background": "light"
     },
     "output_type": "display_data"
    }
   ],
   "source": [
    "fig, axs = plt.subplots(1, 2, figsize=(15, 4))\n",
    "ax1, ax2 = axs\n",
    "\n",
    "\n",
    "for i in range(X_st.shape[1]):\n",
    "    ax1.plot(alpha_list, coeffs[:, i])\n",
    "\n",
    "ax1.title.set_text('Зависимость веса от alpha (L2_manual)')\n",
    "ax1.set_xlabel('alpha')\n",
    "ax1.set_ylabel('Вес признака');\n",
    "\n",
    "for i in range(1, X_st.shape[1]):\n",
    "    ax2.plot(alpha_list, coeffs[:, i])\n",
    "\n",
    "ax2.title.set_text('Зависимость веса от  alpha (L2_manual) без свободного коэфициента')\n",
    "ax2.set_xlabel('alpha')\n",
    "ax2.set_ylabel('Вес признака');"
   ]
  },
  {
   "cell_type": "markdown",
   "id": "f86be83c",
   "metadata": {},
   "source": [
    "### Вывод\n",
    "Как видно на графиках выше чем больше значение коэфициента регуляризации, тем ниже абсалютное значение веса признака.\n",
    "При этом чем выше изначальный вес тем стремительней падение.\n",
    "Несмотря на это, на начальных этапах можно заметить колебания веса в большую сторону относительного предыдущего значения, что может говорить о необходимости определения оптимально большого количества шагов для приведения веса к стабильно низким значениям."
   ]
  },
  {
   "cell_type": "markdown",
   "id": "1f20fb32",
   "metadata": {},
   "source": [
    "### Задача 2\n",
    "Напишите функцию наподобие gradient_descent_reg_l2, но для применения L1-регуляризации."
   ]
  },
  {
   "cell_type": "code",
   "execution_count": 11,
   "id": "063fc822",
   "metadata": {},
   "outputs": [],
   "source": [
    "def gradient_descent_reg_l1(X, y, iterations, eta=1e-4, reg=1e-8):\n",
    "    W = np.random.randn(X.shape[1])\n",
    "    n = X.shape[0]\n",
    "    \n",
    "    for i in range(0, iterations):\n",
    "        y_pred = np.dot(X, W)\n",
    "       \n",
    "        dQ = 2/n * X.T @ (y_pred - y) # градиент функции ошибки\n",
    "        dReg = reg * np.sign(W) # градиент регуляризации\n",
    "        \n",
    "        W -= eta * (dQ + dReg)\n",
    "    return W"
   ]
  },
  {
   "cell_type": "code",
   "execution_count": 12,
   "id": "62458cee",
   "metadata": {},
   "outputs": [
    {
     "data": {
      "image/png": "[encoded data removed]",
      "text/plain": [
       "<Figure size 432x288 with 1 Axes>"
      ]
     },
     "metadata": {
      "needs_background": "light"
     },
     "output_type": "display_data"
    }
   ],
   "source": [
    "n = 16\n",
    "alpha_list = np.logspace(-3, 2, n)\n",
    "coeffs = np.zeros((n, X_st.shape[1]))\n",
    "\n",
    "for i, val in enumerate(alpha_list):\n",
    "    w = gradient_descent_reg_l1(X_st, y, iterations=50, eta=1e-2, reg=val)\n",
    "    coeffs[i, :] = w\n",
    "\n",
    "for i in range(1, X_st.shape[1]):\n",
    "    plt.plot(alpha_list, coeffs[:, i])\n",
    "    \n",
    "    \n",
    "plt.title('Убывание абсолютных значений весов признаков\\n при увеличении коэффициента регуляризации alpha (Lasso)')\n",
    "plt.xticks(np.arange(0, 101, 10))\n",
    "plt.xlabel('alpha')\n",
    "plt.ylabel('Вес признака');"
   ]
  },
  {
   "cell_type": "markdown",
   "id": "f368f580",
   "metadata": {},
   "source": [
    "### Задача 3\n",
    "*Можно ли к одному и тому же признаку применить сразу и нормализацию, и стандартизацию?"
   ]
  },
  {
   "cell_type": "markdown",
   "id": "c2c179f6",
   "metadata": {},
   "source": [
    "Думаю можно, например в случаях применения нескольких моделей:\n",
    "1. Например если используются линейная модель, опирающаяся на нормальное распределение\n",
    "2. Модели опирающиеся на расстояние, для которых важно чтобы величина одного признака не привалировала над остальными с распределеными в меньшем диапазоне."
   ]
  },
  {
   "cell_type": "markdown",
   "id": "f1df3524",
   "metadata": {},
   "source": [
    "### Задача 4\n",
    "*Сгенерируйте датасет при помощи sklearn.datasets.make_regression и  \n",
    "обучите линейную модель при помощи градиентного и стохастического градиентного спуска.  \n",
    "Нанесите среднеквадратичную ошибку для обоих методов на один график,  \n",
    "сделайте выводы о разнице скорости сходимости каждого из методов."
   ]
  },
  {
   "cell_type": "code",
   "execution_count": 13,
   "id": "3b5d56a8",
   "metadata": {},
   "outputs": [],
   "source": [
    "X, Y, coef = make_regression(n_samples=1000, n_features=2, n_informative=2, n_targets=1, \n",
    "                                      noise=5, coef=True, random_state=2)\n",
    "X[:, 0] *= 10"
   ]
  },
  {
   "cell_type": "code",
   "execution_count": 14,
   "id": "31046ea2",
   "metadata": {},
   "outputs": [],
   "source": [
    "def grafient_descent(X, y, w, lr=0.01, max_iter=100):\n",
    "    n = y.shape[0]\n",
    "    w_list = []\n",
    "    errors = []\n",
    "    \n",
    "    # критерий сходимости (разница весов, при которой алгоритм останавливается)\n",
    "    min_weight_dist = 1e-8\n",
    "    \n",
    "    # зададим начальную разницу весов большим числом\n",
    "    weight_dist = np.inf\n",
    "\n",
    "    # счетчик итераций\n",
    "    iter_num = 0\n",
    "    \n",
    "    while weight_dist > min_weight_dist and iter_num < max_iter:\n",
    "        y_pred = np.dot(X, w)\n",
    "       \n",
    "        new_w = w - lr * 2/n * X.T @ (y_pred - y) # градиент функции ошибки\n",
    "        \n",
    "        weight_dist = np.linalg.norm(new_w - w, ord=2)\n",
    "        error = mserror(X, new_w, Y)\n",
    "        w_list.append(new_w.copy())\n",
    "        errors.append(error)\n",
    "        iter_num += 1\n",
    "        w = new_w\n",
    "        \n",
    "    return w, w_list, errors"
   ]
  },
  {
   "cell_type": "code",
   "execution_count": 15,
   "id": "46b45252",
   "metadata": {},
   "outputs": [],
   "source": [
    "def stocashic_grafient_descent(X, y, w, lr=0.01, max_iter=100):\n",
    "    n =  y.shape[0]\n",
    "    w_list = []\n",
    "    errors = []\n",
    "    \n",
    "    # критерий сходимости (разница весов, при которой алгоритм останавливается)\n",
    "    min_weight_dist = 1e-5\n",
    "    \n",
    "    # зададим начальную разницу весов большим числом\n",
    "    weight_dist = np.inf\n",
    "\n",
    "    # счетчик итераций\n",
    "    iter_num = 0\n",
    "    \n",
    "    np.random.seed(911)\n",
    "    \n",
    "    while weight_dist > min_weight_dist and iter_num < max_iter:\n",
    "        # генерируем случайный индекс объекта выборки\n",
    "        train_ind = np.random.randint(X.shape[0], size=1)\n",
    "        y_pred = np.dot(X[train_ind], w)\n",
    "        \n",
    "        new_w = w - lr * 2 /n * X[train_ind].T @ (y_pred - Y[train_ind])\n",
    "        \n",
    "        weight_dist = np.linalg.norm(new_w - w, ord=2)\n",
    "        error = mserror(X, new_w, Y)\n",
    "        w_list.append(new_w.copy())\n",
    "        errors.append(error)\n",
    "        iter_num += 1\n",
    "        w = new_w\n",
    "        \n",
    "    return w, w_list, errors"
   ]
  },
  {
   "cell_type": "code",
   "execution_count": 16,
   "id": "82397d0a",
   "metadata": {},
   "outputs": [],
   "source": [
    "gd_w, gd_w_list, gd_errors = grafient_descent(X, Y, coef)\n",
    "sgd_w, sgd_w_list, sgd_errors = stocashic_grafient_descent(X, Y, coef, lr=0.1, max_iter=250)"
   ]
  },
  {
   "cell_type": "code",
   "execution_count": 17,
   "id": "70f2feee",
   "metadata": {},
   "outputs": [
    {
     "data": {
      "image/png": "[encoded data removed]",
      "text/plain": [
       "<Figure size 432x288 with 1 Axes>"
      ]
     },
     "metadata": {
      "needs_background": "light"
     },
     "output_type": "display_data"
    }
   ],
   "source": [
    "plt.title('Уровень среднеквадратичной ошибки')\n",
    "plt.xlabel('iterations')\n",
    "plt.ylabel('mse');\n",
    "\n",
    "plt.plot(range(len(gd_errors)), gd_errors, color='green', label='grafient_descent')\n",
    "plt.plot(range(len(sgd_errors)), sgd_errors, color='red', label='stocashic_grafient_descent')\n",
    "plt.legend()\n",
    "plt.show()"
   ]
  },
  {
   "cell_type": "markdown",
   "id": "a043d872",
   "metadata": {},
   "source": [
    "### Вывод\n",
    "При использовании градиентного спуска скорость снижения ошибки выше чем при использовании стохастического градиентного спуска."
   ]
  }
 ],
 "metadata": {
  "kernelspec": {
   "display_name": "Python 3",
   "language": "python",
   "name": "python3"
  },
  "language_info": {
   "codemirror_mode": {
    "name": "ipython",
    "version": 3
   },
   "file_extension": ".py",
   "mimetype": "text/x-python",
   "name": "python",
   "nbconvert_exporter": "python",
   "pygments_lexer": "ipython3",
   "version": "3.8.6"
  }
 },
 "nbformat": 4,
 "nbformat_minor": 5
}
