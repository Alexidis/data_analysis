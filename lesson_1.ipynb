{
 "cells": [
  {
   "cell_type": "code",
   "execution_count": 1,
   "metadata": {
    "pycharm": {
     "name": "#%%\n"
    }
   },
   "outputs": [],
   "source": [
    "import numpy as np\n",
    "import matplotlib.pyplot as plt"
   ]
  },
  {
   "cell_type": "code",
   "execution_count": 2,
   "metadata": {},
   "outputs": [],
   "source": [
    "X = np.array([[ 1,  1],\n",
    "              [ 1,  1],\n",
    "              [ 1,  2],\n",
    "              [ 1,  5],\n",
    "              [ 1,  3],\n",
    "              [ 1,  0],\n",
    "              [ 1,  5],\n",
    "              [ 1, 10],\n",
    "              [ 1,  1],\n",
    "              [ 1,  2]])\n",
    "y = [45, 55, 50, 55, 60, 35, 75, 80, 50, 60]"
   ]
  },
  {
   "cell_type": "code",
   "execution_count": 3,
   "metadata": {},
   "outputs": [],
   "source": [
    "def calc_mse(y, y_pred):\n",
    "    err = np.mean((y - y_pred)**2)\n",
    "    return err"
   ]
  },
  {
   "cell_type": "markdown",
   "metadata": {
    "pycharm": {
     "name": "#%%\n"
    }
   },
   "source": [
    "### Задача 1\n",
    "Подберите скорость обучения (eta) и количество итераций"
   ]
  },
  {
   "cell_type": "code",
   "execution_count": 4,
   "metadata": {
    "pycharm": {
     "name": "#%%\n"
    }
   },
   "outputs": [
    {
     "name": "stdout",
     "output_type": "stream",
     "text": [
      "Number of objects = 10        \n",
      "Learning rate = 0.089        \n",
      "Initial weights = [1.  0.5] \n",
      "\n",
      "Iteration #0: W_new = [10.612 34.053], MSE = 3047.75\n",
      "Iteration #10: W_new = [ 1890.02202509 10280.47278088], MSE = 565553607.46\n",
      "Iteration #20: W_new = [ 181634.08644603 1001458.07501833], MSE = 7272054517864.32\n",
      "Iteration #30: W_new = [ 3550666.80546651 19580530.85326344], MSE = 3833446837130737.5\n",
      "Iteration #40: W_new = [12369810.60799578 68215168.38107178], MSE = 6.569465852350987e+16\n",
      "Iteration #50: W_new = [ 6594392.31632617 36365648.21465915], MSE = 2.7176906147137396e+16\n",
      "Iteration #60: W_new = [ 439623.6403699  2424139.43559031], MSE = 183029106587012.12\n",
      "Iteration #70: W_new = [ 2815.54068027 15285.83293452], MSE = 11657627655.97\n",
      "Iteration #80: W_new = [45.71143877  9.94255032], MSE = 3221.11\n",
      "Iteration #90: W_new = [44.74696086  3.86979876], MSE = 44.02\n"
     ]
    }
   ],
   "source": [
    "n = X.shape[0]\n",
    "# ИЗМЕНЕНИЯ (старое)\n",
    "# eta = 1e-2\n",
    "# ИЗМЕНЕНИЯ (новое)\n",
    "eta = 89e-3\n",
    "\n",
    "\n",
    "\n",
    "n_iter = 100\n",
    "\n",
    "W = np.array([1, 0.5])\n",
    "print(f'Number of objects = {n} \\\n",
    "       \\nLearning rate = {eta} \\\n",
    "       \\nInitial weights = {W} \\n')\n",
    "\n",
    "for i in range(n_iter):\n",
    "    y_pred = np.dot(X, W)\n",
    "    err = calc_mse(y, y_pred)\n",
    "    for k in range(W.shape[0]):\n",
    "        W[k] -= eta * (1/n * 2 * X[:, k] @ (y_pred - y))\n",
    "    if i % 10 == 0:\n",
    "        eta /= 1.1\n",
    "        print(f'Iteration #{i}: W_new = {W}, MSE = {round(err, 2)}')"
   ]
  },
  {
   "cell_type": "code",
   "execution_count": 5,
   "metadata": {},
   "outputs": [
    {
     "data": {
      "image/png": "[encoded data removed]",
      "text/plain": [
       "<Figure size 432x288 with 1 Axes>"
      ]
     },
     "metadata": {
      "needs_background": "light"
     },
     "output_type": "display_data"
    }
   ],
   "source": [
    "y_pred_grad = X @ W\n",
    "plt.scatter(X[:, 1], y)\n",
    "plt.plot(X[:, 1], y_pred_grad, label='MNK descent', c='g')\n",
    "plt.legend()\n",
    "plt.show()"
   ]
  },
  {
   "cell_type": "markdown",
   "metadata": {
    "pycharm": {
     "name": "#%%\n"
    }
   },
   "source": [
    "### Задача 2\n",
    "В этом коде мы избавляемся от итераций по весам, но тут есть ошибка, исправьте ее"
   ]
  },
  {
   "cell_type": "code",
   "execution_count": 6,
   "metadata": {
    "pycharm": {
     "name": "#%%\n"
    },
    "scrolled": true
   },
   "outputs": [
    {
     "name": "stdout",
     "output_type": "stream",
     "text": [
      "Number of objects = 10        \n",
      "Learning rate = 0.01        \n",
      "Initial weights = [1.  0.5] \n",
      "\n",
      "Iteration #0: W_new = [2.08 4.27], MSE = 3047.75\n",
      "Iteration #10: W_new = [ 7.0011236 10.6169007], MSE = 738.65\n",
      "Iteration #20: W_new = [10.3486292  10.10603105], MSE = 622.03\n",
      "Iteration #30: W_new = [13.38789582  9.55618391], MSE = 525.24\n",
      "Iteration #40: W_new = [16.16088505  9.05336203], MSE = 444.66\n",
      "Iteration #50: W_new = [18.69110735  8.59454545], MSE = 377.58\n",
      "Iteration #60: W_new = [20.99981865  8.17589626], MSE = 321.72\n",
      "Iteration #70: W_new = [23.10641138  7.79389815], MSE = 275.22\n",
      "Iteration #80: W_new = [25.02858024  7.44534246], MSE = 236.5\n",
      "Iteration #90: W_new = [26.78247081  7.12730145], MSE = 204.27\n"
     ]
    }
   ],
   "source": [
    "n = X.shape[0]\n",
    "\n",
    "eta = 1e-2\n",
    "n_iter = 100\n",
    "\n",
    "W = np.array([1, 0.5])\n",
    "print(f'Number of objects = {n} \\\n",
    "       \\nLearning rate = {eta} \\\n",
    "       \\nInitial weights = {W} \\n')\n",
    "\n",
    "for i in range(n_iter):\n",
    "    y_pred = np.dot(X, W)\n",
    "    err = calc_mse(y, y_pred)\n",
    "    # ИЗМЕНЕНИЯ (старое)\n",
    "    # W -= eta * (1/n * 2 * np.dot(X, y_pred - y))\n",
    "    # ИЗМЕНЕНИЯ (новое) добавил транспонирование X\n",
    "    W -= eta * (1/n * 2 * np.dot(X.T, y_pred - y))\n",
    "    \n",
    "    #\n",
    "    if i % 10 == 0:\n",
    "        print(f'Iteration #{i}: W_new = {W}, MSE = {round(err,2)}')"
   ]
  },
  {
   "cell_type": "code",
   "execution_count": 7,
   "metadata": {},
   "outputs": [
    {
     "data": {
      "image/png": "[encoded data removed]",
      "text/plain": [
       "<Figure size 432x288 with 1 Axes>"
      ]
     },
     "metadata": {
      "needs_background": "light"
     },
     "output_type": "display_data"
    }
   ],
   "source": [
    "y_pred_grad = X @ W\n",
    "plt.scatter(X[:, 1], y)\n",
    "plt.plot(X[:, 1], y_pred_grad, label='gradient descent', c='g')\n",
    "plt.legend()\n",
    "plt.show()"
   ]
  },
  {
   "cell_type": "markdown",
   "metadata": {
    "pycharm": {
     "name": "#%%\n"
    }
   },
   "source": [
    "### Задача 3\n",
    "Вместо того, чтобы задавать количество итераций, задайте другое условие останова алгоритма - когда веса перестают изменяться меньше определенного порога  𝜖 ."
   ]
  },
  {
   "cell_type": "code",
   "execution_count": 8,
   "metadata": {
    "pycharm": {
     "name": "#%%\n"
    },
    "scrolled": false
   },
   "outputs": [
    {
     "name": "stdout",
     "output_type": "stream",
     "text": [
      "Number of objects = 10        \n",
      "Learning rate = 0.01        \n",
      "Initial weights = [1.  0.5] \n",
      "\n",
      "Iteration #10: W_new = [ 6.64172205 10.62940003], weight_dist = 0.36790806281424887, MSE = 752.02\n",
      "Iteration #20: W_new = [10.02900674 10.16329008], weight_dist = 0.32770038930504414, MSE = 632.72\n",
      "Iteration #30: W_new = [13.09636548  9.60903915], weight_dist = 0.29900994897603655, MSE = 534.14\n",
      "Iteration #40: W_new = [15.89487851  9.10159809], weight_dist = 0.2728328083441791, MSE = 452.07\n",
      "Iteration #50: W_new = [18.44838865  8.63855875], weight_dist = 0.24894737331124467, MSE = 383.75\n",
      "Iteration #60: W_new = [20.77834901  8.21605636], weight_dist = 0.22715301379884484, MSE = 326.86\n",
      "Iteration #70: W_new = [22.90433054  7.83054239], weight_dist = 0.20726666440214822, MSE = 279.49\n",
      "Iteration #80: W_new = [24.84419078  7.47877865], weight_dist = 0.18912128636970613, MSE = 240.06\n",
      "Iteration #90: W_new = [26.61422391  7.15781043], weight_dist = 0.17256446453316582, MSE = 207.23\n",
      "Iteration #100: W_new = [28.22929764  6.86494171], weight_dist = 0.1574571270703258, MSE = 179.9\n",
      "Iteration #110: W_new = [29.70297804  6.59771249], weight_dist = 0.14367237734786115, MSE = 157.14\n",
      "Iteration #120: W_new = [31.04764353  6.35387814], weight_dist = 0.13109442803161872, MSE = 138.19\n",
      "Iteration #130: W_new = [32.27458888  6.13139052], weight_dist = 0.11961762851134054, MSE = 122.41\n",
      "Iteration #140: W_new = [33.39412     5.92838081], weight_dist = 0.10914557747050695, MSE = 109.28\n",
      "Iteration #150: W_new = [34.41564059  5.7431438 ], weight_dist = 0.09959031314720329, MSE = 98.35\n",
      "Iteration #160: W_new = [35.34773109  5.57412356], weight_dist = 0.09087157448443517, MSE = 89.24\n",
      "Iteration #170: W_new = [36.19822075  5.41990037], weight_dist = 0.08291612696382514, MSE = 81.66\n",
      "Iteration #180: W_new = [36.9742534   5.27917882], weight_dist = 0.07565714745989124, MSE = 75.35\n",
      "Iteration #190: W_new = [37.68234745  5.15077688], weight_dist = 0.06903366294791757, MSE = 70.1\n",
      "Iteration #200: W_new = [38.32845066  5.03361602], weight_dist = 0.06299003835074193, MSE = 65.72\n",
      "Iteration #210: W_new = [38.91799009  4.92671213], weight_dist = 0.05747550922253295, MSE = 62.08\n",
      "Iteration #220: W_new = [39.45591767  4.82916726], weight_dist = 0.05244375534422676, MSE = 59.05\n",
      "Iteration #230: W_new = [39.94675181  4.74016206], weight_dist = 0.047852511649025556, MSE = 56.52\n",
      "Iteration #240: W_new = [40.39461537  4.65894891], weight_dist = 0.04366321320984223, MSE = 54.42\n",
      "Iteration #250: W_new = [40.80327023  4.58484565], weight_dist = 0.039840671306690605, MSE = 52.67\n",
      "Iteration #260: W_new = [41.17614898  4.51722984], weight_dist = 0.03635277785305227, MSE = 51.21\n",
      "Iteration #270: W_new = [41.51638367  4.45553352], weight_dist = 0.033170235698599365, MSE = 50.0\n",
      "Iteration #280: W_new = [41.82683215  4.39923848], weight_dist = 0.030266312542828844, MSE = 48.99\n",
      "Iteration #290: W_new = [42.11010209  4.34787184], weight_dist = 0.027616616392597316, MSE = 48.15\n",
      "Iteration #300: W_new = [42.36857287  4.30100215], weight_dist = 0.02519889067743907, MSE = 47.45\n",
      "Iteration #310: W_new = [42.60441555  4.25823571], weight_dist = 0.022992827301741642, MSE = 46.87\n",
      "Iteration #320: W_new = [42.81961114  4.21921331], weight_dist = 0.020979896063478862, MSE = 46.38\n"
     ]
    }
   ],
   "source": [
    "n = X.shape[0]\n",
    "\n",
    "eta = 1e-2\n",
    "i = 0\n",
    "weight_dist = np.inf\n",
    "min_weight_dist = 2e-2\n",
    "W = np.array([1, 0.5])\n",
    "\n",
    "print(f'Number of objects = {n} \\\n",
    "       \\nLearning rate = {eta} \\\n",
    "       \\nInitial weights = {W} \\n')\n",
    "\n",
    "while weight_dist > min_weight_dist:\n",
    "    y_pred = np.dot(X, W)\n",
    "    dQ = 2 / X.shape[0] * np.dot(X.T, y_pred - y)\n",
    "    new_w = W - eta * dQ\n",
    "    \n",
    "    weight_dist = np.linalg.norm(new_w - W, ord=2)\n",
    "    W = new_w\n",
    "    \n",
    "    err = calc_mse(y, y_pred)\n",
    "    i += 1\n",
    "    \n",
    "    if i % 10 == 0:\n",
    "        print(f'Iteration #{i}: W_new = {W}, weight_dist = {weight_dist}, MSE = {round(err,2)}')"
   ]
  },
  {
   "cell_type": "code",
   "execution_count": 9,
   "metadata": {},
   "outputs": [
    {
     "data": {
      "image/png": "[encoded data removed]",
      "text/plain": [
       "<Figure size 432x288 with 1 Axes>"
      ]
     },
     "metadata": {
      "needs_background": "light"
     },
     "output_type": "display_data"
    }
   ],
   "source": [
    "y_pred_grad = X @ W\n",
    "plt.scatter(X[:, 1], y)\n",
    "plt.plot(X[:, 1], y_pred_grad, label='gradient descent', c='g')\n",
    "plt.legend()\n",
    "plt.show()"
   ]
  }
 ],
 "metadata": {
  "kernelspec": {
   "display_name": "Python 3",
   "language": "python",
   "name": "python3"
  },
  "language_info": {
   "codemirror_mode": {
    "name": "ipython",
    "version": 3
   },
   "file_extension": ".py",
   "mimetype": "text/x-python",
   "name": "python",
   "nbconvert_exporter": "python",
   "pygments_lexer": "ipython3",
   "version": "3.8.6"
  }
 },
 "nbformat": 4,
 "nbformat_minor": 1
}
